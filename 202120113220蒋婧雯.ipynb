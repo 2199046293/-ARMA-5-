{
 "cells": [
  {
   "cell_type": "code",
   "execution_count": 1,
   "metadata": {},
   "outputs": [],
   "source": [
    "import pandas as pd\n",
    "import matplotlib.pyplot as plt\n",
    "from statsmodels.tsa.stattools import adfuller, acf, pacf\n",
    "import statsmodels.tsa.stattools as st\n",
    "from statsmodels.graphics.tsaplots import plot_acf, plot_pacf\n",
    "from statsmodels.tsa.arima.model import ARIMA\n",
    "import pandas as pd\n",
    "import numpy as np\n",
    "import seaborn as sns\n",
    "import matplotlib.pyplot as plt\n",
    "import statsmodels.api as sm\n",
    "\n",
    "\n",
    "# 假设data是时间序列数据\n",
    "data1 = pd.read_excel(\"C:\\\\Users\\\\蒋婧雯\\\\Desktop\\\\jjw.xlsx\",header=0)\n",
    "# data=data1[\"x\"]"
   ]
  },
  {
   "cell_type": "code",
   "execution_count": 2,
   "metadata": {},
   "outputs": [],
   "source": [
    "import numpy as np\n",
    "import pandas as pd\n",
    "from statsmodels.tsa.arima.model import ARIMA\n",
    "import matplotlib.pyplot as plt\n",
    "\n",
    "# 假设df是一个包含历史高考人数数据的DataFrame，其中包含一列名为'Enrollment'的时间序列数据\n",
    "# df = pd.read_csv('historical_enrollment_data.csv')\n",
    "\n",
    "# 数据预处理（例如，转换为时间序列格式）\n",
    "# df['Date'] = pd.to_datetime(df['Date'])\n",
    "# df.set_index('Date', inplace=True)\n",
    "\n",
    "# 检验时间序列的平稳性\n",
    "# from statsmodels.tsa.stattools import adfuller\n",
    "# result = adfuller(df['Enrollment'])\n",
    "# print('ADF Statistic: %f' % result[0])\n",
    "# print('p-value: %f' % result[1])\n",
    "\n",
    "# 如果需要，对数据进行差分使其平稳\n",
    "# df['Enrollment_diff'] = df['Enrollment'].diff().dropna()\n",
    "\n",
    "# 拟合ARMA模型\n",
    "# model = ARIMA(df['Enrollment'], order=(p, d, q))  # p, d, q为模型参数，需要根据数据选择合适的值\n",
    "# model_fit = model.fit()\n",
    "\n",
    "# 进行预测\n",
    "# forecast = model_fit.forecast(steps=n)  # n为预测的步数\n",
    "\n",
    "# 可视化预测结果\n",
    "# plt.plot(df['Enrollment'], label='Historical')\n",
    "# plt.plot(pd.date_range(df.index[-1], periods=n, freq='M'), forecast, label='Forecast')\n",
    "# plt.legend()\n",
    "# plt.show()\n"
   ]
  },
  {
   "cell_type": "code",
   "execution_count": 3,
   "metadata": {},
   "outputs": [],
   "source": [
    "data=data1['居民消费价格指数(上年同月＝100)']"
   ]
  },
  {
   "cell_type": "code",
   "execution_count": 4,
   "metadata": {},
   "outputs": [
    {
     "data": {
      "text/plain": [
       "0     104.47\n",
       "1     103.55\n",
       "2     103.25\n",
       "3     102.38\n",
       "4     101.86\n",
       "5     101.44\n",
       "6     100.73\n",
       "7     100.89\n",
       "8     101.00\n",
       "9     100.90\n",
       "10    100.20\n",
       "11    100.20\n",
       "12     99.20\n",
       "13     99.90\n",
       "14    100.60\n",
       "15    101.10\n",
       "16    101.20\n",
       "17    100.90\n",
       "18    101.50\n",
       "19    101.40\n",
       "20    101.20\n",
       "21    102.00\n",
       "22    102.40\n",
       "23    101.80\n",
       "24    101.30\n",
       "25    101.20\n",
       "26    101.80\n",
       "27    102.00\n",
       "28    102.20\n",
       "29    102.50\n",
       "30    102.10\n",
       "31    101.90\n",
       "32    102.10\n",
       "33    101.30\n",
       "34    101.20\n",
       "35    101.80\n",
       "36    102.00\n",
       "37    101.20\n",
       "38    100.70\n",
       "39    100.30\n",
       "40    100.20\n",
       "41    100.10\n",
       "42    100.10\n",
       "43    100.30\n",
       "44    100.40\n",
       "45    100.00\n",
       "46     99.70\n",
       "47     99.50\n",
       "48     99.60\n",
       "Name: 居民消费价格指数(上年同月＝100), dtype: float64"
      ]
     },
     "execution_count": 4,
     "metadata": {},
     "output_type": "execute_result"
    }
   ],
   "source": [
    "data"
   ]
  },
  {
   "cell_type": "code",
   "execution_count": 5,
   "metadata": {},
   "outputs": [],
   "source": [
    "# data= pd.to_datetime(data)\n",
    "# data1.set_index('居民消费价格指数（上年＝100）', inplace=True)\n",
    "\n",
    "# # 数据预处理"
   ]
  },
  {
   "cell_type": "code",
   "execution_count": 6,
   "metadata": {},
   "outputs": [
    {
     "data": {
      "image/png": "[encoded data removed]",
      "text/plain": [
       "<Figure size 640x480 with 1 Axes>"
      ]
     },
     "metadata": {},
     "output_type": "display_data"
    }
   ],
   "source": [
    "# 转换为pandas的Series对象\n",
    "series = pd.Series(data)\n",
    "\n",
    "# 绘制时序图\n",
    "# plt.figure(figsize=(8, 4))\n",
    "plt.plot(series)\n",
    "plt.title('Time Series Plot')\n",
    "plt.show()"
   ]
  },
  {
   "cell_type": "code",
   "execution_count": 7,
   "metadata": {},
   "outputs": [],
   "source": [
    "series = pd.Series(data)"
   ]
  },
  {
   "cell_type": "code",
   "execution_count": 8,
   "metadata": {},
   "outputs": [
    {
     "name": "stdout",
     "output_type": "stream",
     "text": [
      "ADF Statistic: -2.920274\n",
      "p-value: 0.043041\n"
     ]
    }
   ],
   "source": [
    "# 平稳性分析\n",
    "from statsmodels.tsa.stattools import adfuller\n",
    "result = adfuller(series )\n",
    "print('ADF Statistic: %f' % result[0])\n",
    "print('p-value: %f' % result[1])\n",
    "# 结果大于0.05，说明是非平稳的"
   ]
  },
  {
   "cell_type": "code",
   "execution_count": 9,
   "metadata": {},
   "outputs": [
    {
     "name": "stdout",
     "output_type": "stream",
     "text": [
      "     lb_stat     lb_pvalue\n",
      "1  32.094771  1.468320e-08\n",
      "2  49.899855  1.460106e-11\n",
      "3  58.449938  1.259904e-12\n",
      "4  62.578098  8.325186e-13\n",
      "5  64.533557  1.400367e-12\n",
      "6  65.251604  3.832599e-12\n",
      "7  65.417437  1.239614e-11\n",
      "8  65.634987  3.613905e-11\n",
      "9  68.352636  3.200537e-11\n"
     ]
    }
   ],
   "source": [
    "#判断纯随机性\n",
    "\n",
    "from statsmodels.stats.diagnostic import acorr_ljungbox\n",
    "print(acorr_ljungbox(data,lags=None,boxpierce=False))"
   ]
  },
  {
   "cell_type": "code",
   "execution_count": 10,
   "metadata": {},
   "outputs": [
    {
     "name": "stdout",
     "output_type": "stream",
     "text": [
      "[ 1.          0.78515361  0.57867912  0.39671714  0.27264741  0.18555281\n",
      "  0.11115466  0.05279311 -0.05974319 -0.20856599 -0.34053194 -0.38342059\n",
      " -0.39160441 -0.269236   -0.20849796 -0.2377793  -0.2737017  -0.26353165\n",
      " -0.21650158 -0.18725756 -0.12089024 -0.03211681 -0.02169382 -0.06023082\n",
      " -0.05988426  0.00472277  0.11108866  0.21078511  0.26153447  0.26002525\n",
      "  0.23280359  0.22289563  0.21335676  0.19926233  0.21878869  0.21682521\n",
      "  0.13432514 -0.00784887 -0.08678451 -0.13962828 -0.15177144 -0.159199\n",
      " -0.17019127 -0.19132861 -0.20984077 -0.23245113 -0.22086202 -0.16901958\n",
      " -0.09499816]\n"
     ]
    }
   ],
   "source": [
    "# 计算样本自相关系数\n",
    "result=sm.tsa.stattools.acf(data.values,nlags=72,adjusted=False)\n",
    "print(result)"
   ]
  },
  {
   "cell_type": "code",
   "execution_count": 11,
   "metadata": {},
   "outputs": [
    {
     "name": "stdout",
     "output_type": "stream",
     "text": [
      "[ 1.          0.80151097 -0.10939108 -0.07410954  0.02898935 -0.00240844\n",
      " -0.05109416 -0.02214532 -0.25126289 -0.27757357 -0.1849058   0.03924885\n",
      " -0.09735313  0.42186561 -0.20376728 -0.43789754 -0.09280697  0.19703052\n",
      " -0.01822846 -0.27269187 -0.09572086  0.11483334 -0.41686829 -0.13059279\n",
      "  0.34883887]\n"
     ]
    }
   ],
   "source": [
    "#计算偏自相关系数\n",
    "result=sm.tsa.stattools.pacf(data.values,nlags=24)\n",
    "print(result)"
   ]
  },
  {
   "cell_type": "code",
   "execution_count": 12,
   "metadata": {},
   "outputs": [
    {
     "data": {
      "image/png": "[encoded data removed]",
      "text/plain": [
       "<Figure size 640x480 with 1 Axes>"
      ]
     },
     "metadata": {},
     "output_type": "display_data"
    },
    {
     "data": {
      "image/png": "[encoded data removed]",
      "text/plain": [
       "<Figure size 640x480 with 1 Axes>"
      ]
     },
     "metadata": {},
     "output_type": "display_data"
    }
   ],
   "source": [
    "# 自相关和偏自相关系数\n",
    "plot_acf(series)\n",
    "plot_pacf(series)\n",
    "plt.show()"
   ]
  },
  {
   "cell_type": "code",
   "execution_count": 13,
   "metadata": {},
   "outputs": [
    {
     "name": "stdout",
     "output_type": "stream",
     "text": [
      "                               SARIMAX Results                                \n",
      "==============================================================================\n",
      "Dep. Variable:     居民消费价格指数(上年同月＝100)   No. Observations:                   49\n",
      "Model:                          ARIMA   Log Likelihood                 -72.513\n",
      "Date:                Tue, 04 Jun 2024   AIC                            149.026\n",
      "Time:                        11:06:43   BIC                            152.809\n",
      "Sample:                             0   HQIC                           150.461\n",
      "                                 - 49                                         \n",
      "Covariance Type:                  opg                                         \n",
      "==============================================================================\n",
      "                 coef    std err          z      P>|z|      [0.025      0.975]\n",
      "------------------------------------------------------------------------------\n",
      "const        101.2157      0.162    625.420      0.000     100.899     101.533\n",
      "sigma2         1.1296      0.216      5.219      0.000       0.705       1.554\n",
      "===================================================================================\n",
      "Ljung-Box (L1) (Q):                  32.09   Jarque-Bera (JB):                 3.04\n",
      "Prob(Q):                              0.00   Prob(JB):                         0.22\n",
      "Heteroskedasticity (H):               0.53   Skew:                             0.55\n",
      "Prob(H) (two-sided):                  0.22   Kurtosis:                         3.53\n",
      "===================================================================================\n",
      "\n",
      "Warnings:\n",
      "[1] Covariance matrix calculated using the outer product of gradients (complex-step).\n"
     ]
    }
   ],
   "source": [
    "# 选择模型并拟合\n",
    "# 这里需要根据ACF和PACF图来选择合适的模型参数\n",
    "model = ARIMA(series, order=(0, 0, 0))  \n",
    "model_fit = model.fit()\n",
    "print(model_fit.summary())"
   ]
  },
  {
   "cell_type": "code",
   "execution_count": 14,
   "metadata": {},
   "outputs": [
    {
     "name": "stderr",
     "output_type": "stream",
     "text": [
      "E:\\360downloads\\envs\\2021\\Lib\\site-packages\\statsmodels\\tsa\\statespace\\sarimax.py:978: UserWarning: Non-invertible starting MA parameters found. Using zeros as starting parameters.\n",
      "  warn('Non-invertible starting MA parameters found.'\n"
     ]
    },
    {
     "name": "stdout",
     "output_type": "stream",
     "text": [
      "                               SARIMAX Results                                \n",
      "==============================================================================\n",
      "Dep. Variable:     居民消费价格指数(上年同月＝100)   No. Observations:                   49\n",
      "Model:                 ARIMA(0, 0, 1)   Log Likelihood                 -51.601\n",
      "Date:                Tue, 04 Jun 2024   AIC                            109.202\n",
      "Time:                        11:06:44   BIC                            114.877\n",
      "Sample:                             0   HQIC                           111.355\n",
      "                                 - 49                                         \n",
      "Covariance Type:                  opg                                         \n",
      "==============================================================================\n",
      "                 coef    std err          z      P>|z|      [0.025      0.975]\n",
      "------------------------------------------------------------------------------\n",
      "const        101.2385      0.188    537.750      0.000     100.869     101.607\n",
      "ma.L1          0.8640      0.118      7.343      0.000       0.633       1.095\n",
      "sigma2         0.4678      0.075      6.256      0.000       0.321       0.614\n",
      "===================================================================================\n",
      "Ljung-Box (L1) (Q):                   5.82   Jarque-Bera (JB):                14.37\n",
      "Prob(Q):                              0.02   Prob(JB):                         0.00\n",
      "Heteroskedasticity (H):               0.44   Skew:                             0.64\n",
      "Prob(H) (two-sided):                  0.11   Kurtosis:                         5.32\n",
      "===================================================================================\n",
      "\n",
      "Warnings:\n",
      "[1] Covariance matrix calculated using the outer product of gradients (complex-step).\n"
     ]
    }
   ],
   "source": [
    "# 选择模型并拟合\n",
    "# 这里需要根据ACF和PACF图来选择合适的模型参数\n",
    "model = ARIMA(series, order=(0, 0, 1))  \n",
    "model_fit = model.fit()\n",
    "print(model_fit.summary())"
   ]
  },
  {
   "cell_type": "code",
   "execution_count": 15,
   "metadata": {},
   "outputs": [
    {
     "name": "stdout",
     "output_type": "stream",
     "text": [
      "                               SARIMAX Results                                \n",
      "==============================================================================\n",
      "Dep. Variable:     居民消费价格指数(上年同月＝100)   No. Observations:                   49\n",
      "Model:                 ARIMA(0, 0, 2)   Log Likelihood                 -42.908\n",
      "Date:                Tue, 04 Jun 2024   AIC                             93.816\n",
      "Time:                        11:06:45   BIC                            101.383\n",
      "Sample:                             0   HQIC                            96.687\n",
      "                                 - 49                                         \n",
      "Covariance Type:                  opg                                         \n",
      "==============================================================================\n",
      "                 coef    std err          z      P>|z|      [0.025      0.975]\n",
      "------------------------------------------------------------------------------\n",
      "const        101.2619      0.224    451.606      0.000     100.822     101.701\n",
      "ma.L1          1.1571      0.166      6.962      0.000       0.831       1.483\n",
      "ma.L2          0.5517      0.153      3.601      0.000       0.251       0.852\n",
      "sigma2         0.3270      0.078      4.216      0.000       0.175       0.479\n",
      "===================================================================================\n",
      "Ljung-Box (L1) (Q):                   0.09   Jarque-Bera (JB):                12.68\n",
      "Prob(Q):                              0.77   Prob(JB):                         0.00\n",
      "Heteroskedasticity (H):               0.39   Skew:                             0.79\n",
      "Prob(H) (two-sided):                  0.07   Kurtosis:                         4.93\n",
      "===================================================================================\n",
      "\n",
      "Warnings:\n",
      "[1] Covariance matrix calculated using the outer product of gradients (complex-step).\n"
     ]
    }
   ],
   "source": [
    "# 选择模型并拟合\n",
    "# 这里需要根据ACF和PACF图来选择合适的模型参数\n",
    "model = ARIMA(series, order=(0, 0, 2))  \n",
    "model_fit = model.fit()\n",
    "print(model_fit.summary())"
   ]
  },
  {
   "cell_type": "code",
   "execution_count": 16,
   "metadata": {},
   "outputs": [
    {
     "name": "stdout",
     "output_type": "stream",
     "text": [
      "                               SARIMAX Results                                \n",
      "==============================================================================\n",
      "Dep. Variable:     居民消费价格指数(上年同月＝100)   No. Observations:                   49\n",
      "Model:                 ARIMA(0, 0, 3)   Log Likelihood                 -37.911\n",
      "Date:                Tue, 04 Jun 2024   AIC                             85.823\n",
      "Time:                        11:06:46   BIC                             95.282\n",
      "Sample:                             0   HQIC                            89.411\n",
      "                                 - 49                                         \n",
      "Covariance Type:                  opg                                         \n",
      "==============================================================================\n",
      "                 coef    std err          z      P>|z|      [0.025      0.975]\n",
      "------------------------------------------------------------------------------\n",
      "const        101.2750      0.263    385.581      0.000     100.760     101.790\n",
      "ma.L1          1.2565      0.144      8.731      0.000       0.974       1.538\n",
      "ma.L2          0.9282      0.207      4.476      0.000       0.522       1.335\n",
      "ma.L3          0.4096      0.171      2.395      0.017       0.074       0.745\n",
      "sigma2         0.2652      0.048      5.542      0.000       0.171       0.359\n",
      "===================================================================================\n",
      "Ljung-Box (L1) (Q):                   0.42   Jarque-Bera (JB):                 8.45\n",
      "Prob(Q):                              0.52   Prob(JB):                         0.01\n",
      "Heteroskedasticity (H):               0.46   Skew:                             0.51\n",
      "Prob(H) (two-sided):                  0.13   Kurtosis:                         4.76\n",
      "===================================================================================\n",
      "\n",
      "Warnings:\n",
      "[1] Covariance matrix calculated using the outer product of gradients (complex-step).\n"
     ]
    }
   ],
   "source": [
    "# 选择模型并拟合\n",
    "# 这里需要根据ACF和PACF图来选择合适的模型参数\n",
    "model = ARIMA(series, order=(0, 0, 3)) \n",
    "model_fit = model.fit()\n",
    "print(model_fit.summary())"
   ]
  },
  {
   "cell_type": "code",
   "execution_count": 17,
   "metadata": {},
   "outputs": [
    {
     "name": "stdout",
     "output_type": "stream",
     "text": [
      "                               SARIMAX Results                                \n",
      "==============================================================================\n",
      "Dep. Variable:     居民消费价格指数(上年同月＝100)   No. Observations:                   49\n",
      "Model:                 ARIMA(1, 0, 0)   Log Likelihood                 -33.587\n",
      "Date:                Tue, 04 Jun 2024   AIC                             73.174\n",
      "Time:                        11:06:46   BIC                             78.850\n",
      "Sample:                             0   HQIC                            75.327\n",
      "                                 - 49                                         \n",
      "Covariance Type:                  opg                                         \n",
      "==============================================================================\n",
      "                 coef    std err          z      P>|z|      [0.025      0.975]\n",
      "------------------------------------------------------------------------------\n",
      "const        101.6296      1.157     87.829      0.000      99.362     103.898\n",
      "ar.L1          0.9615      0.045     21.390      0.000       0.873       1.050\n",
      "sigma2         0.2188      0.056      3.937      0.000       0.110       0.328\n",
      "===================================================================================\n",
      "Ljung-Box (L1) (Q):                   0.62   Jarque-Bera (JB):                 1.12\n",
      "Prob(Q):                              0.43   Prob(JB):                         0.57\n",
      "Heteroskedasticity (H):               0.46   Skew:                             0.08\n",
      "Prob(H) (two-sided):                  0.13   Kurtosis:                         2.28\n",
      "===================================================================================\n",
      "\n",
      "Warnings:\n",
      "[1] Covariance matrix calculated using the outer product of gradients (complex-step).\n"
     ]
    }
   ],
   "source": [
    "# 选择模型并拟合\n",
    "# 这里需要根据ACF和PACF图来选择合适的模型参数\n",
    "model = ARIMA(series, order=(1, 0, 0)) \n",
    "model_fit = model.fit()\n",
    "print(model_fit.summary())"
   ]
  },
  {
   "cell_type": "code",
   "execution_count": null,
   "metadata": {},
   "outputs": [],
   "source": []
  },
  {
   "cell_type": "code",
   "execution_count": 18,
   "metadata": {},
   "outputs": [
    {
     "name": "stdout",
     "output_type": "stream",
     "text": [
      "                               SARIMAX Results                                \n",
      "==============================================================================\n",
      "Dep. Variable:     居民消费价格指数(上年同月＝100)   No. Observations:                   49\n",
      "Model:                 ARIMA(1, 0, 1)   Log Likelihood                 -31.879\n",
      "Date:                Tue, 04 Jun 2024   AIC                             71.758\n",
      "Time:                        11:06:47   BIC                             79.325\n",
      "Sample:                             0   HQIC                            74.629\n",
      "                                 - 49                                         \n",
      "Covariance Type:                  opg                                         \n",
      "==============================================================================\n",
      "                 coef    std err          z      P>|z|      [0.025      0.975]\n",
      "------------------------------------------------------------------------------\n",
      "const        101.5561      0.834    121.778      0.000      99.922     103.191\n",
      "ar.L1          0.9287      0.062     14.894      0.000       0.806       1.051\n",
      "ma.L1          0.2903      0.186      1.558      0.119      -0.075       0.656\n",
      "sigma2         0.2042      0.048      4.225      0.000       0.109       0.299\n",
      "===================================================================================\n",
      "Ljung-Box (L1) (Q):                   1.05   Jarque-Bera (JB):                 0.07\n",
      "Prob(Q):                              0.31   Prob(JB):                         0.96\n",
      "Heteroskedasticity (H):               0.43   Skew:                             0.05\n",
      "Prob(H) (two-sided):                  0.10   Kurtosis:                         2.84\n",
      "===================================================================================\n",
      "\n",
      "Warnings:\n",
      "[1] Covariance matrix calculated using the outer product of gradients (complex-step).\n"
     ]
    }
   ],
   "source": [
    "# 选择模型并拟合\n",
    "# 这里需要根据ACF和PACF图来选择合适的模型参数\n",
    "model = ARIMA(series, order=(1, 0, 1))  \n",
    "model_fit = model.fit()\n",
    "print(model_fit.summary())"
   ]
  },
  {
   "cell_type": "code",
   "execution_count": 19,
   "metadata": {},
   "outputs": [
    {
     "name": "stdout",
     "output_type": "stream",
     "text": [
      "                               SARIMAX Results                                \n",
      "==============================================================================\n",
      "Dep. Variable:     居民消费价格指数(上年同月＝100)   No. Observations:                   49\n",
      "Model:                 ARIMA(1, 0, 2)   Log Likelihood                 -31.857\n",
      "Date:                Tue, 04 Jun 2024   AIC                             73.714\n",
      "Time:                        11:06:48   BIC                             83.173\n",
      "Sample:                             0   HQIC                            77.303\n",
      "                                 - 49                                         \n",
      "Covariance Type:                  opg                                         \n",
      "==============================================================================\n",
      "                 coef    std err          z      P>|z|      [0.025      0.975]\n",
      "------------------------------------------------------------------------------\n",
      "const        101.5413      0.832    121.992      0.000      99.910     103.173\n",
      "ar.L1          0.9217      0.083     11.158      0.000       0.760       1.084\n",
      "ma.L1          0.3021      0.239      1.266      0.206      -0.166       0.770\n",
      "ma.L2          0.0331      0.182      0.182      0.856      -0.324       0.390\n",
      "sigma2         0.2041      0.048      4.226      0.000       0.109       0.299\n",
      "===================================================================================\n",
      "Ljung-Box (L1) (Q):                   1.16   Jarque-Bera (JB):                 0.09\n",
      "Prob(Q):                              0.28   Prob(JB):                         0.96\n",
      "Heteroskedasticity (H):               0.44   Skew:                             0.07\n",
      "Prob(H) (two-sided):                  0.11   Kurtosis:                         2.84\n",
      "===================================================================================\n",
      "\n",
      "Warnings:\n",
      "[1] Covariance matrix calculated using the outer product of gradients (complex-step).\n"
     ]
    }
   ],
   "source": [
    "# 选择模型并拟合\n",
    "# 这里需要根据ACF和PACF图来选择合适的模型参数\n",
    "model = ARIMA(series, order=(1, 0, 2)) \n",
    "model_fit = model.fit()\n",
    "print(model_fit.summary())"
   ]
  },
  {
   "cell_type": "code",
   "execution_count": 20,
   "metadata": {},
   "outputs": [
    {
     "name": "stdout",
     "output_type": "stream",
     "text": [
      "                               SARIMAX Results                                \n",
      "==============================================================================\n",
      "Dep. Variable:     居民消费价格指数(上年同月＝100)   No. Observations:                   49\n",
      "Model:                 ARIMA(1, 0, 3)   Log Likelihood                 -31.796\n",
      "Date:                Tue, 04 Jun 2024   AIC                             75.591\n",
      "Time:                        11:06:49   BIC                             86.942\n",
      "Sample:                             0   HQIC                            79.898\n",
      "                                 - 49                                         \n",
      "Covariance Type:                  opg                                         \n",
      "==============================================================================\n",
      "                 coef    std err          z      P>|z|      [0.025      0.975]\n",
      "------------------------------------------------------------------------------\n",
      "const        101.5250      0.770    131.784      0.000     100.015     103.035\n",
      "ar.L1          0.9086      0.094      9.648      0.000       0.724       1.093\n",
      "ma.L1          0.3151      0.243      1.295      0.195      -0.162       0.792\n",
      "ma.L2          0.0574      0.193      0.298      0.766      -0.320       0.435\n",
      "ma.L3          0.0587      0.167      0.352      0.725      -0.268       0.386\n",
      "sigma2         0.2037      0.049      4.127      0.000       0.107       0.300\n",
      "===================================================================================\n",
      "Ljung-Box (L1) (Q):                   1.19   Jarque-Bera (JB):                 0.10\n",
      "Prob(Q):                              0.27   Prob(JB):                         0.95\n",
      "Heteroskedasticity (H):               0.45   Skew:                             0.08\n",
      "Prob(H) (two-sided):                  0.12   Kurtosis:                         2.83\n",
      "===================================================================================\n",
      "\n",
      "Warnings:\n",
      "[1] Covariance matrix calculated using the outer product of gradients (complex-step).\n"
     ]
    }
   ],
   "source": [
    "# 选择模型并拟合\n",
    "# 这里需要根据ACF和PACF图来选择合适的模型参数\n",
    "model = ARIMA(series, order=(1, 0, 3))  \n",
    "model_fit = model.fit()\n",
    "print(model_fit.summary())"
   ]
  },
  {
   "cell_type": "code",
   "execution_count": 21,
   "metadata": {},
   "outputs": [
    {
     "name": "stdout",
     "output_type": "stream",
     "text": [
      "                               SARIMAX Results                                \n",
      "==============================================================================\n",
      "Dep. Variable:     居民消费价格指数(上年同月＝100)   No. Observations:                   49\n",
      "Model:                 ARIMA(2, 0, 0)   Log Likelihood                 -31.853\n",
      "Date:                Tue, 04 Jun 2024   AIC                             71.706\n",
      "Time:                        11:06:50   BIC                             79.273\n",
      "Sample:                             0   HQIC                            74.577\n",
      "                                 - 49                                         \n",
      "Covariance Type:                  opg                                         \n",
      "==============================================================================\n",
      "                 coef    std err          z      P>|z|      [0.025      0.975]\n",
      "------------------------------------------------------------------------------\n",
      "const        101.5136      0.750    135.316      0.000     100.043     102.984\n",
      "ar.L1          1.2175      0.178      6.843      0.000       0.869       1.566\n",
      "ar.L2         -0.2837      0.203     -1.399      0.162      -0.681       0.114\n",
      "sigma2         0.2043      0.047      4.332      0.000       0.112       0.297\n",
      "===================================================================================\n",
      "Ljung-Box (L1) (Q):                   1.14   Jarque-Bera (JB):                 0.16\n",
      "Prob(Q):                              0.29   Prob(JB):                         0.92\n",
      "Heteroskedasticity (H):               0.47   Skew:                             0.11\n",
      "Prob(H) (two-sided):                  0.14   Kurtosis:                         2.81\n",
      "===================================================================================\n",
      "\n",
      "Warnings:\n",
      "[1] Covariance matrix calculated using the outer product of gradients (complex-step).\n"
     ]
    }
   ],
   "source": [
    "# 选择模型并拟合\n",
    "# 这里需要根据ACF和PACF图来选择合适的模型参数\n",
    "model = ARIMA(series, order=(2, 0, 0))  \n",
    "model_fit = model.fit()\n",
    "print(model_fit.summary())"
   ]
  },
  {
   "cell_type": "code",
   "execution_count": 22,
   "metadata": {},
   "outputs": [
    {
     "name": "stdout",
     "output_type": "stream",
     "text": [
      "                               SARIMAX Results                                \n",
      "==============================================================================\n",
      "Dep. Variable:     居民消费价格指数(上年同月＝100)   No. Observations:                   49\n",
      "Model:                 ARIMA(2, 0, 1)   Log Likelihood                 -31.842\n",
      "Date:                Tue, 04 Jun 2024   AIC                             73.684\n",
      "Time:                        11:06:51   BIC                             83.143\n",
      "Sample:                             0   HQIC                            77.273\n",
      "                                 - 49                                         \n",
      "Covariance Type:                  opg                                         \n",
      "==============================================================================\n",
      "                 coef    std err          z      P>|z|      [0.025      0.975]\n",
      "------------------------------------------------------------------------------\n",
      "const        101.5278      0.800    126.980      0.000      99.961     103.095\n",
      "ar.L1          1.1132      0.510      2.185      0.029       0.115       2.112\n",
      "ar.L2         -0.1824      0.505     -0.361      0.718      -1.172       0.807\n",
      "ma.L1          0.1119      0.497      0.225      0.822      -0.862       1.085\n",
      "sigma2         0.2041      0.048      4.224      0.000       0.109       0.299\n",
      "===================================================================================\n",
      "Ljung-Box (L1) (Q):                   1.21   Jarque-Bera (JB):                 0.11\n",
      "Prob(Q):                              0.27   Prob(JB):                         0.94\n",
      "Heteroskedasticity (H):               0.45   Skew:                             0.09\n",
      "Prob(H) (two-sided):                  0.12   Kurtosis:                         2.84\n",
      "===================================================================================\n",
      "\n",
      "Warnings:\n",
      "[1] Covariance matrix calculated using the outer product of gradients (complex-step).\n"
     ]
    }
   ],
   "source": [
    "# 选择模型并拟合\n",
    "# 这里需要根据ACF和PACF图来选择合适的模型参数\n",
    "model = ARIMA(series, order=(2, 0, 1))  \n",
    "model_fit = model.fit()\n",
    "print(model_fit.summary())"
   ]
  },
  {
   "cell_type": "code",
   "execution_count": 23,
   "metadata": {},
   "outputs": [
    {
     "name": "stderr",
     "output_type": "stream",
     "text": [
      "E:\\360downloads\\envs\\2021\\Lib\\site-packages\\statsmodels\\tsa\\statespace\\sarimax.py:966: UserWarning: Non-stationary starting autoregressive parameters found. Using zeros as starting parameters.\n",
      "  warn('Non-stationary starting autoregressive parameters'\n",
      "E:\\360downloads\\envs\\2021\\Lib\\site-packages\\statsmodels\\tsa\\statespace\\sarimax.py:978: UserWarning: Non-invertible starting MA parameters found. Using zeros as starting parameters.\n",
      "  warn('Non-invertible starting MA parameters found.'\n"
     ]
    },
    {
     "name": "stdout",
     "output_type": "stream",
     "text": [
      "                               SARIMAX Results                                \n",
      "==============================================================================\n",
      "Dep. Variable:     居民消费价格指数(上年同月＝100)   No. Observations:                   49\n",
      "Model:                 ARIMA(2, 0, 2)   Log Likelihood                 -30.417\n",
      "Date:                Tue, 04 Jun 2024   AIC                             72.834\n",
      "Time:                        11:06:54   BIC                             84.185\n",
      "Sample:                             0   HQIC                            77.141\n",
      "                                 - 49                                         \n",
      "Covariance Type:                  opg                                         \n",
      "==============================================================================\n",
      "                 coef    std err          z      P>|z|      [0.025      0.975]\n",
      "------------------------------------------------------------------------------\n",
      "const        101.3642      0.324    312.961      0.000     100.729     101.999\n",
      "ar.L1          1.9002      0.050     38.298      0.000       1.803       1.997\n",
      "ar.L2         -0.9393      0.041    -23.160      0.000      -1.019      -0.860\n",
      "ma.L1         -0.7521      0.346     -2.174      0.030      -1.430      -0.074\n",
      "ma.L2         -0.2162      0.193     -1.118      0.264      -0.595       0.163\n",
      "sigma2         0.1834      0.073      2.506      0.012       0.040       0.327\n",
      "===================================================================================\n",
      "Ljung-Box (L1) (Q):                   1.02   Jarque-Bera (JB):                 0.77\n",
      "Prob(Q):                              0.31   Prob(JB):                         0.68\n",
      "Heteroskedasticity (H):               0.49   Skew:                             0.13\n",
      "Prob(H) (two-sided):                  0.17   Kurtosis:                         2.44\n",
      "===================================================================================\n",
      "\n",
      "Warnings:\n",
      "[1] Covariance matrix calculated using the outer product of gradients (complex-step).\n"
     ]
    },
    {
     "name": "stderr",
     "output_type": "stream",
     "text": [
      "E:\\360downloads\\envs\\2021\\Lib\\site-packages\\statsmodels\\base\\model.py:607: ConvergenceWarning: Maximum Likelihood optimization failed to converge. Check mle_retvals\n",
      "  warnings.warn(\"Maximum Likelihood optimization failed to \"\n"
     ]
    }
   ],
   "source": [
    "# 选择模型并拟合\n",
    "# 这里需要根据ACF和PACF图来选择合适的模型参数\n",
    "model = ARIMA(series, order=(2, 0, 2))  #\n",
    "model_fit = model.fit()\n",
    "print(model_fit.summary())"
   ]
  },
  {
   "cell_type": "code",
   "execution_count": 24,
   "metadata": {},
   "outputs": [
    {
     "name": "stderr",
     "output_type": "stream",
     "text": [
      "E:\\360downloads\\envs\\2021\\Lib\\site-packages\\statsmodels\\tsa\\statespace\\sarimax.py:978: UserWarning: Non-invertible starting MA parameters found. Using zeros as starting parameters.\n",
      "  warn('Non-invertible starting MA parameters found.'\n",
      "E:\\360downloads\\envs\\2021\\Lib\\site-packages\\statsmodels\\base\\model.py:607: ConvergenceWarning: Maximum Likelihood optimization failed to converge. Check mle_retvals\n",
      "  warnings.warn(\"Maximum Likelihood optimization failed to \"\n",
      "E:\\360downloads\\envs\\2021\\Lib\\site-packages\\statsmodels\\tsa\\statespace\\sarimax.py:966: UserWarning: Non-stationary starting autoregressive parameters found. Using zeros as starting parameters.\n",
      "  warn('Non-stationary starting autoregressive parameters'\n",
      "E:\\360downloads\\envs\\2021\\Lib\\site-packages\\statsmodels\\base\\model.py:607: ConvergenceWarning: Maximum Likelihood optimization failed to converge. Check mle_retvals\n",
      "  warnings.warn(\"Maximum Likelihood optimization failed to \"\n",
      "E:\\360downloads\\envs\\2021\\Lib\\site-packages\\statsmodels\\base\\model.py:607: ConvergenceWarning: Maximum Likelihood optimization failed to converge. Check mle_retvals\n",
      "  warnings.warn(\"Maximum Likelihood optimization failed to \"\n",
      "E:\\360downloads\\envs\\2021\\Lib\\site-packages\\statsmodels\\base\\model.py:607: ConvergenceWarning: Maximum Likelihood optimization failed to converge. Check mle_retvals\n",
      "  warnings.warn(\"Maximum Likelihood optimization failed to \"\n",
      "E:\\360downloads\\envs\\2021\\Lib\\site-packages\\statsmodels\\base\\model.py:607: ConvergenceWarning: Maximum Likelihood optimization failed to converge. Check mle_retvals\n",
      "  warnings.warn(\"Maximum Likelihood optimization failed to \"\n",
      "E:\\360downloads\\envs\\2021\\Lib\\site-packages\\statsmodels\\base\\model.py:607: ConvergenceWarning: Maximum Likelihood optimization failed to converge. Check mle_retvals\n",
      "  warnings.warn(\"Maximum Likelihood optimization failed to \"\n",
      "E:\\360downloads\\envs\\2021\\Lib\\site-packages\\statsmodels\\base\\model.py:607: ConvergenceWarning: Maximum Likelihood optimization failed to converge. Check mle_retvals\n",
      "  warnings.warn(\"Maximum Likelihood optimization failed to \"\n",
      "E:\\360downloads\\envs\\2021\\Lib\\site-packages\\statsmodels\\base\\model.py:607: ConvergenceWarning: Maximum Likelihood optimization failed to converge. Check mle_retvals\n",
      "  warnings.warn(\"Maximum Likelihood optimization failed to \"\n",
      "E:\\360downloads\\envs\\2021\\Lib\\site-packages\\statsmodels\\base\\model.py:607: ConvergenceWarning: Maximum Likelihood optimization failed to converge. Check mle_retvals\n",
      "  warnings.warn(\"Maximum Likelihood optimization failed to \"\n",
      "E:\\360downloads\\envs\\2021\\Lib\\site-packages\\statsmodels\\base\\model.py:607: ConvergenceWarning: Maximum Likelihood optimization failed to converge. Check mle_retvals\n",
      "  warnings.warn(\"Maximum Likelihood optimization failed to \"\n",
      "E:\\360downloads\\envs\\2021\\Lib\\site-packages\\statsmodels\\base\\model.py:607: ConvergenceWarning: Maximum Likelihood optimization failed to converge. Check mle_retvals\n",
      "  warnings.warn(\"Maximum Likelihood optimization failed to \"\n",
      "E:\\360downloads\\envs\\2021\\Lib\\site-packages\\statsmodels\\base\\model.py:607: ConvergenceWarning: Maximum Likelihood optimization failed to converge. Check mle_retvals\n",
      "  warnings.warn(\"Maximum Likelihood optimization failed to \"\n",
      "E:\\360downloads\\envs\\2021\\Lib\\site-packages\\statsmodels\\base\\model.py:607: ConvergenceWarning: Maximum Likelihood optimization failed to converge. Check mle_retvals\n",
      "  warnings.warn(\"Maximum Likelihood optimization failed to \"\n",
      "E:\\360downloads\\envs\\2021\\Lib\\site-packages\\statsmodels\\base\\model.py:607: ConvergenceWarning: Maximum Likelihood optimization failed to converge. Check mle_retvals\n",
      "  warnings.warn(\"Maximum Likelihood optimization failed to \"\n",
      "E:\\360downloads\\envs\\2021\\Lib\\site-packages\\statsmodels\\base\\model.py:607: ConvergenceWarning: Maximum Likelihood optimization failed to converge. Check mle_retvals\n",
      "  warnings.warn(\"Maximum Likelihood optimization failed to \"\n"
     ]
    }
   ],
   "source": [
    "order_analyze=st.arma_order_select_ic(data,max_ma=5,ic=['aic','bic'])"
   ]
  },
  {
   "cell_type": "code",
   "execution_count": 25,
   "metadata": {},
   "outputs": [
    {
     "data": {
      "text/plain": [
       "(2, 0)"
      ]
     },
     "execution_count": 25,
     "metadata": {},
     "output_type": "execute_result"
    }
   ],
   "source": [
    "order_analyze.aic_min_order"
   ]
  },
  {
   "cell_type": "code",
   "execution_count": 26,
   "metadata": {},
   "outputs": [],
   "source": [
    "test_data2=data1['index']"
   ]
  },
  {
   "cell_type": "code",
   "execution_count": 27,
   "metadata": {},
   "outputs": [
    {
     "name": "stdout",
     "output_type": "stream",
     "text": [
      "                               SARIMAX Results                                \n",
      "==============================================================================\n",
      "Dep. Variable:     居民消费价格指数(上年同月＝100)   No. Observations:                   49\n",
      "Model:                 ARIMA(2, 0, 0)   Log Likelihood                 -31.853\n",
      "Date:                Tue, 04 Jun 2024   AIC                             71.706\n",
      "Time:                        11:07:57   BIC                             79.273\n",
      "Sample:                             0   HQIC                            74.577\n",
      "                                 - 49                                         \n",
      "Covariance Type:                  opg                                         \n",
      "==============================================================================\n",
      "                 coef    std err          z      P>|z|      [0.025      0.975]\n",
      "------------------------------------------------------------------------------\n",
      "const        101.5136      0.750    135.316      0.000     100.043     102.984\n",
      "ar.L1          1.2175      0.178      6.843      0.000       0.869       1.566\n",
      "ar.L2         -0.2837      0.203     -1.399      0.162      -0.681       0.114\n",
      "sigma2         0.2043      0.047      4.332      0.000       0.112       0.297\n",
      "===================================================================================\n",
      "Ljung-Box (L1) (Q):                   1.14   Jarque-Bera (JB):                 0.16\n",
      "Prob(Q):                              0.29   Prob(JB):                         0.92\n",
      "Heteroskedasticity (H):               0.47   Skew:                             0.11\n",
      "Prob(H) (two-sided):                  0.14   Kurtosis:                         2.81\n",
      "===================================================================================\n",
      "\n",
      "Warnings:\n",
      "[1] Covariance matrix calculated using the outer product of gradients (complex-step).\n"
     ]
    }
   ],
   "source": [
    "# 选择模型并拟合\n",
    "# 这里需要根据ACF和PACF图来选择合适的模型参数\n",
    "model = ARIMA(series, order=(2, 0, 0)) \n",
    "model_fit = model.fit()\n",
    "print(model_fit.summary())"
   ]
  },
  {
   "cell_type": "code",
   "execution_count": 29,
   "metadata": {},
   "outputs": [
    {
     "name": "stdout",
     "output_type": "stream",
     "text": [
      "     predicted_mean\n",
      "49        99.755174\n",
      "50        99.915719\n",
      "51       100.067151\n",
      "52       100.205962\n",
      "53       100.331994\n",
      "..              ...\n",
      "105      101.507605\n",
      "106      101.508185\n",
      "107      101.508708\n",
      "108      101.509181\n",
      "109      101.509609\n",
      "\n",
      "[61 rows x 1 columns]\n"
     ]
    }
   ],
   "source": [
    "pre=model_fit.predict(49,109)\n",
    "pre_data=pd.Series(pre)\n",
    "# print(pre_data)\n",
    "import pandas as pd\n",
    "import openpyxl\n",
    "df = pd.DataFrame(pre_data)\n",
    "print(df)\n",
    "# 将DataFrame保存为Excel文件\n",
    "# df.to_excel('put.xlsx', index=False)\n",
    "# df.to_excel('put.xlsx', engine='openpyxl', index=False)\n",
    "# df.to_excel('zuoye.xlsx', encoding='utf-16', index=False)\n",
    "# plt.figure(figsize=(6,4),dpi=200)\n",
    "# sns.lineplot(x=pre_data.index,y=pre_data.values)\n",
    "# sns.lineplot(x=test_data2,y=data)# 选择模型并拟合\n",
    "\n",
    "# 预测未来5年的盈亏情况\n",
    "\n",
    "# plt.show()"
   ]
  },
  {
   "cell_type": "code",
   "execution_count": 30,
   "metadata": {},
   "outputs": [
    {
     "name": "stderr",
     "output_type": "stream",
     "text": [
      "E:\\360downloads\\envs\\2021\\Lib\\site-packages\\IPython\\core\\pylabtools.py:152: UserWarning: Glyph 23621 (\\N{CJK UNIFIED IDEOGRAPH-5C45}) missing from current font.\n",
      "  fig.canvas.print_figure(bytes_io, **kw)\n",
      "E:\\360downloads\\envs\\2021\\Lib\\site-packages\\IPython\\core\\pylabtools.py:152: UserWarning: Glyph 27665 (\\N{CJK UNIFIED IDEOGRAPH-6C11}) missing from current font.\n",
      "  fig.canvas.print_figure(bytes_io, **kw)\n",
      "E:\\360downloads\\envs\\2021\\Lib\\site-packages\\IPython\\core\\pylabtools.py:152: UserWarning: Glyph 28040 (\\N{CJK UNIFIED IDEOGRAPH-6D88}) missing from current font.\n",
      "  fig.canvas.print_figure(bytes_io, **kw)\n",
      "E:\\360downloads\\envs\\2021\\Lib\\site-packages\\IPython\\core\\pylabtools.py:152: UserWarning: Glyph 36153 (\\N{CJK UNIFIED IDEOGRAPH-8D39}) missing from current font.\n",
      "  fig.canvas.print_figure(bytes_io, **kw)\n",
      "E:\\360downloads\\envs\\2021\\Lib\\site-packages\\IPython\\core\\pylabtools.py:152: UserWarning: Glyph 20215 (\\N{CJK UNIFIED IDEOGRAPH-4EF7}) missing from current font.\n",
      "  fig.canvas.print_figure(bytes_io, **kw)\n",
      "E:\\360downloads\\envs\\2021\\Lib\\site-packages\\IPython\\core\\pylabtools.py:152: UserWarning: Glyph 26684 (\\N{CJK UNIFIED IDEOGRAPH-683C}) missing from current font.\n",
      "  fig.canvas.print_figure(bytes_io, **kw)\n",
      "E:\\360downloads\\envs\\2021\\Lib\\site-packages\\IPython\\core\\pylabtools.py:152: UserWarning: Glyph 25351 (\\N{CJK UNIFIED IDEOGRAPH-6307}) missing from current font.\n",
      "  fig.canvas.print_figure(bytes_io, **kw)\n",
      "E:\\360downloads\\envs\\2021\\Lib\\site-packages\\IPython\\core\\pylabtools.py:152: UserWarning: Glyph 25968 (\\N{CJK UNIFIED IDEOGRAPH-6570}) missing from current font.\n",
      "  fig.canvas.print_figure(bytes_io, **kw)\n",
      "E:\\360downloads\\envs\\2021\\Lib\\site-packages\\IPython\\core\\pylabtools.py:152: UserWarning: Glyph 19978 (\\N{CJK UNIFIED IDEOGRAPH-4E0A}) missing from current font.\n",
      "  fig.canvas.print_figure(bytes_io, **kw)\n",
      "E:\\360downloads\\envs\\2021\\Lib\\site-packages\\IPython\\core\\pylabtools.py:152: UserWarning: Glyph 24180 (\\N{CJK UNIFIED IDEOGRAPH-5E74}) missing from current font.\n",
      "  fig.canvas.print_figure(bytes_io, **kw)\n",
      "E:\\360downloads\\envs\\2021\\Lib\\site-packages\\IPython\\core\\pylabtools.py:152: UserWarning: Glyph 21516 (\\N{CJK UNIFIED IDEOGRAPH-540C}) missing from current font.\n",
      "  fig.canvas.print_figure(bytes_io, **kw)\n",
      "E:\\360downloads\\envs\\2021\\Lib\\site-packages\\IPython\\core\\pylabtools.py:152: UserWarning: Glyph 26376 (\\N{CJK UNIFIED IDEOGRAPH-6708}) missing from current font.\n",
      "  fig.canvas.print_figure(bytes_io, **kw)\n",
      "E:\\360downloads\\envs\\2021\\Lib\\site-packages\\IPython\\core\\pylabtools.py:152: UserWarning: Glyph 65309 (\\N{FULLWIDTH EQUALS SIGN}) missing from current font.\n",
      "  fig.canvas.print_figure(bytes_io, **kw)\n"
     ]
    },
    {
     "data": {
      "image/png": "[encoded data removed]",
      "text/plain": [
       "<Figure size 640x480 with 1 Axes>"
      ]
     },
     "metadata": {},
     "output_type": "display_data"
    }
   ],
   "source": [
    "pre=model_fit.predict(1,109)\n",
    "pre_data=pd.Series(pre)\n",
    "import pandas as pd\n",
    "import openpyxl\n",
    "df = pd.DataFrame(pre_data)\n",
    "# df.to_excel('xxut.xlsx', engine='openpyxl', index=False)\n",
    "sns.lineplot(x=pre_data.index,y=pre_data.values)\n",
    "sns.lineplot(x=test_data2,y=data)# 选择模型并拟合pre=model_fit.predict(31,60)\n",
    "# 预测未来5年的盈亏情况\n",
    "plt.show()"
   ]
  },
  {
   "cell_type": "code",
   "execution_count": 31,
   "metadata": {},
   "outputs": [],
   "source": [
    "pre=model_fit.predict(0,48)\n",
    "pre_data=pd.Series(pre)\n",
    "# print(pre_data)\n",
    "import pandas as pd\n",
    "import openpyxl\n",
    "df = pd.DataFrame(pre_data)\n",
    "# df.to_excel('yuceut.xlsx', engine='openpyxl', index=False)\n",
    "# plt.figure(figsize=(6,4),dpi=200)\n",
    "# sns.lineplot(x=pre_data.index,y=pre_data.values)\n",
    "# sns.lineplot(x=test_data2,y=data)\n",
    "\n",
    "# # 预测z这四年的盈亏情况\n",
    "\n",
    "# plt.show()"
   ]
  },
  {
   "cell_type": "code",
   "execution_count": 32,
   "metadata": {},
   "outputs": [
    {
     "data": {
      "text/plain": [
       "0     104.47\n",
       "1     103.55\n",
       "2     103.25\n",
       "3     102.38\n",
       "4     101.86\n",
       "5     101.44\n",
       "6     100.73\n",
       "7     100.89\n",
       "8     101.00\n",
       "9     100.90\n",
       "10    100.20\n",
       "11    100.20\n",
       "12     99.20\n",
       "13     99.90\n",
       "14    100.60\n",
       "15    101.10\n",
       "16    101.20\n",
       "17    100.90\n",
       "18    101.50\n",
       "19    101.40\n",
       "20    101.20\n",
       "21    102.00\n",
       "22    102.40\n",
       "23    101.80\n",
       "24    101.30\n",
       "25    101.20\n",
       "26    101.80\n",
       "27    102.00\n",
       "28    102.20\n",
       "29    102.50\n",
       "30    102.10\n",
       "31    101.90\n",
       "32    102.10\n",
       "33    101.30\n",
       "34    101.20\n",
       "35    101.80\n",
       "36    102.00\n",
       "37    101.20\n",
       "38    100.70\n",
       "39    100.30\n",
       "40    100.20\n",
       "41    100.10\n",
       "42    100.10\n",
       "43    100.30\n",
       "44    100.40\n",
       "45    100.00\n",
       "46     99.70\n",
       "47     99.50\n",
       "48     99.60\n",
       "Name: 居民消费价格指数(上年同月＝100), dtype: float64"
      ]
     },
     "execution_count": 32,
     "metadata": {},
     "output_type": "execute_result"
    }
   ],
   "source": [
    "data"
   ]
  },
  {
   "cell_type": "code",
   "execution_count": 33,
   "metadata": {},
   "outputs": [
    {
     "data": {
      "text/plain": [
       "0     2.956394\n",
       "1    -0.767397\n",
       "2     0.095962\n",
       "3    -0.669824\n",
       "4    -0.215752\n",
       "5    -0.249512\n",
       "6    -0.595714\n",
       "7     0.309518\n",
       "8     0.023282\n",
       "9    -0.165243\n",
       "10   -0.712287\n",
       "11    0.111562\n",
       "12   -1.087044\n",
       "13    0.830415\n",
       "14    0.394472\n",
       "15    0.240856\n",
       "16   -0.069268\n",
       "17   -0.349153\n",
       "18    0.644457\n",
       "19   -0.271135\n",
       "20   -0.179156\n",
       "21    0.835964\n",
       "22    0.205253\n",
       "23   -0.654753\n",
       "24   -0.310790\n",
       "25    0.027707\n",
       "26    0.607592\n",
       "27    0.048744\n",
       "28    0.175486\n",
       "29    0.288738\n",
       "30   -0.419755\n",
       "31   -0.047655\n",
       "32    0.282348\n",
       "33   -0.817888\n",
       "34    0.112823\n",
       "35    0.607592\n",
       "36    0.048744\n",
       "37   -0.824514\n",
       "38   -0.293803\n",
       "39   -0.312051\n",
       "40   -0.066929\n",
       "41   -0.158672\n",
       "42   -0.065298\n",
       "43    0.106330\n",
       "44   -0.037162\n",
       "45   -0.502163\n",
       "46   -0.286808\n",
       "47   -0.235059\n",
       "48    0.023316\n",
       "dtype: float64"
      ]
     },
     "execution_count": 33,
     "metadata": {},
     "output_type": "execute_result"
    }
   ],
   "source": [
    "model_fit.resid"
   ]
  },
  {
   "cell_type": "code",
   "execution_count": 34,
   "metadata": {},
   "outputs": [],
   "source": [
    "import openpyxl\n",
    "df = pd.DataFrame(model_fit.resid)\n",
    "df.to_excel('残差.xlsx', engine='openpyxl', index=False)"
   ]
  },
  {
   "cell_type": "code",
   "execution_count": 37,
   "metadata": {},
   "outputs": [],
   "source": [
    "dataxxx=abs(data-pre_data)"
   ]
  },
  {
   "cell_type": "code",
   "execution_count": 38,
   "metadata": {},
   "outputs": [],
   "source": [
    "df = pd.DataFrame(dataxxx)"
   ]
  },
  {
   "cell_type": "code",
   "execution_count": 39,
   "metadata": {},
   "outputs": [],
   "source": [
    "df.to_excel('第一个误差.xlsx', engine='openpyxl', index=False)"
   ]
  },
  {
   "cell_type": "code",
   "execution_count": 40,
   "metadata": {},
   "outputs": [
    {
     "data": {
      "text/plain": [
       "0     2.956394\n",
       "1     0.767397\n",
       "2     0.095962\n",
       "3     0.669824\n",
       "4     0.215752\n",
       "5     0.249512\n",
       "6     0.595714\n",
       "7     0.309518\n",
       "8     0.023282\n",
       "9     0.165243\n",
       "10    0.712287\n",
       "11    0.111562\n",
       "12    1.087044\n",
       "13    0.830415\n",
       "14    0.394472\n",
       "15    0.240856\n",
       "16    0.069268\n",
       "17    0.349153\n",
       "18    0.644457\n",
       "19    0.271135\n",
       "20    0.179156\n",
       "21    0.835964\n",
       "22    0.205253\n",
       "23    0.654753\n",
       "24    0.310790\n",
       "25    0.027707\n",
       "26    0.607592\n",
       "27    0.048744\n",
       "28    0.175486\n",
       "29    0.288738\n",
       "30    0.419755\n",
       "31    0.047655\n",
       "32    0.282348\n",
       "33    0.817888\n",
       "34    0.112823\n",
       "35    0.607592\n",
       "36    0.048744\n",
       "37    0.824514\n",
       "38    0.293803\n",
       "39    0.312051\n",
       "40    0.066929\n",
       "41    0.158672\n",
       "42    0.065298\n",
       "43    0.106330\n",
       "44    0.037162\n",
       "45    0.502163\n",
       "46    0.286808\n",
       "47    0.235059\n",
       "48    0.023316\n",
       "dtype: float64"
      ]
     },
     "execution_count": 40,
     "metadata": {},
     "output_type": "execute_result"
    }
   ],
   "source": [
    "dataxxx"
   ]
  },
  {
   "cell_type": "code",
   "execution_count": 41,
   "metadata": {},
   "outputs": [],
   "source": [
    "dataxx=abs((data-pre_data)/data)"
   ]
  },
  {
   "cell_type": "code",
   "execution_count": 42,
   "metadata": {},
   "outputs": [],
   "source": [
    "df = pd.DataFrame(dataxx)\n",
    "df.to_excel('相对误差.xlsx', engine='openpyxl', index=False)"
   ]
  },
  {
   "cell_type": "code",
   "execution_count": 43,
   "metadata": {},
   "outputs": [
    {
     "data": {
      "text/plain": [
       "0     0.028299\n",
       "1     0.007411\n",
       "2     0.000929\n",
       "3     0.006543\n",
       "4     0.002118\n",
       "5     0.002460\n",
       "6     0.005914\n",
       "7     0.003068\n",
       "8     0.000231\n",
       "9     0.001638\n",
       "10    0.007109\n",
       "11    0.001113\n",
       "12    0.010958\n",
       "13    0.008312\n",
       "14    0.003921\n",
       "15    0.002382\n",
       "16    0.000684\n",
       "17    0.003460\n",
       "18    0.006349\n",
       "19    0.002674\n",
       "20    0.001770\n",
       "21    0.008196\n",
       "22    0.002004\n",
       "23    0.006432\n",
       "24    0.003068\n",
       "25    0.000274\n",
       "26    0.005968\n",
       "27    0.000478\n",
       "28    0.001717\n",
       "29    0.002817\n",
       "30    0.004111\n",
       "31    0.000468\n",
       "32    0.002765\n",
       "33    0.008074\n",
       "34    0.001115\n",
       "35    0.005968\n",
       "36    0.000478\n",
       "37    0.008147\n",
       "38    0.002918\n",
       "39    0.003111\n",
       "40    0.000668\n",
       "41    0.001585\n",
       "42    0.000652\n",
       "43    0.001060\n",
       "44    0.000370\n",
       "45    0.005022\n",
       "46    0.002877\n",
       "47    0.002362\n",
       "48    0.000234\n",
       "dtype: float64"
      ]
     },
     "execution_count": 43,
     "metadata": {},
     "output_type": "execute_result"
    }
   ],
   "source": [
    "dataxx"
   ]
  },
  {
   "cell_type": "code",
   "execution_count": 84,
   "metadata": {},
   "outputs": [],
   "source": [
    "data444=pre_data.sum()"
   ]
  },
  {
   "cell_type": "code",
   "execution_count": 85,
   "metadata": {
    "scrolled": true
   },
   "outputs": [
    {
     "data": {
      "text/plain": [
       "4960.957227665972"
      ]
     },
     "execution_count": 85,
     "metadata": {},
     "output_type": "execute_result"
    }
   ],
   "source": [
    "data444"
   ]
  },
  {
   "cell_type": "code",
   "execution_count": 86,
   "metadata": {},
   "outputs": [],
   "source": [
    "data222=data.sum()"
   ]
  },
  {
   "cell_type": "code",
   "execution_count": 87,
   "metadata": {},
   "outputs": [
    {
     "data": {
      "text/plain": [
       "4959.570000000001"
      ]
     },
     "execution_count": 87,
     "metadata": {},
     "output_type": "execute_result"
    }
   ],
   "source": [
    "data222"
   ]
  },
  {
   "cell_type": "code",
   "execution_count": 88,
   "metadata": {},
   "outputs": [
    {
     "data": {
      "text/plain": [
       "1.3872276659712952"
      ]
     },
     "execution_count": 88,
     "metadata": {},
     "output_type": "execute_result"
    }
   ],
   "source": [
    "abs(data222-data444)"
   ]
  },
  {
   "cell_type": "code",
   "execution_count": 89,
   "metadata": {},
   "outputs": [
    {
     "data": {
      "text/plain": [
       "0.0002797072459852961"
      ]
     },
     "execution_count": 89,
     "metadata": {},
     "output_type": "execute_result"
    }
   ],
   "source": [
    "abs((data222-data444)/data222)"
   ]
  },
  {
   "cell_type": "code",
   "execution_count": null,
   "metadata": {},
   "outputs": [],
   "source": []
  }
 ],
 "metadata": {
  "kernelspec": {
   "display_name": "2021",
   "language": "python",
   "name": "2021"
  },
  "language_info": {
   "codemirror_mode": {
    "name": "ipython",
    "version": 3
   },
   "file_extension": ".py",
   "mimetype": "text/x-python",
   "name": "python",
   "nbconvert_exporter": "python",
   "pygments_lexer": "ipython3",
   "version": "3.11.0"
  }
 },
 "nbformat": 4,
 "nbformat_minor": 2
}
